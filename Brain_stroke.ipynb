{
  "nbformat": 4,
  "nbformat_minor": 0,
  "metadata": {
    "colab": {
      "provenance": []
    },
    "kernelspec": {
      "name": "python3",
      "display_name": "Python 3"
    },
    "language_info": {
      "name": "python"
    }
  },
  "cells": [
    {
      "cell_type": "markdown",
      "source": [
        "## Project definition:\n",
        "The goal of this project is to develop a machine learning model that can accurately classify brain stroke from MRI images and predict the severity of the stroke using National Institutes of Health Stroke Scale (NIHSS) and Magnetic Resonance Spectroscopy (MRS) data obtained from the same images.\n",
        "\n",
        "The project will involve collecting a dataset of MRI images from patients with and without stroke. The MRI images will be preprocessed to extract relevant features using techniques such as image registration, segmentation, and feature extraction.\n",
        "\n",
        "The extracted features will then be used to train a machine learning model using classification algorithms such as convolutional neural networks (CNN) and support vector machines (SVM). The trained model will be evaluated using standard metrics such as accuracy, sensitivity, and specificity.\n",
        "\n",
        "In addition to stroke classification, the project will also involve predicting the severity of the stroke using NIHSS and MRS data extracted from the MRI images. This will involve using regression techniques such as linear regression and decision trees to predict the severity of the stroke based on the extracted data.\n",
        "\n",
        "The final product of this project will be a machine learning model that can accurately classify stroke from MRI images and predict the severity of the stroke using NIHSS and MRS data. This model can be used by radiologists and neurologists to assist in the diagnosis and treatment of stroke patients."
      ],
      "metadata": {
        "id": "NXUl6fr0aeye"
      }
    },
    {
      "cell_type": "code",
      "source": [
        "! pip install pydicom"
      ],
      "metadata": {
        "colab": {
          "base_uri": "https://localhost:8080/"
        },
        "id": "IG3kbMGjhBaC",
        "outputId": "d53fc830-4804-460e-da7a-4fe41cf1d515"
      },
      "execution_count": null,
      "outputs": [
        {
          "output_type": "stream",
          "name": "stdout",
          "text": [
            "Looking in indexes: https://pypi.org/simple, https://us-python.pkg.dev/colab-wheels/public/simple/\n",
            "Collecting pydicom\n",
            "  Downloading pydicom-2.3.1-py3-none-any.whl (2.0 MB)\n",
            "\u001b[2K     \u001b[90m━━━━━━━━━━━━━━━━━━━━━━━━━━━━━━━━━━━━━━━━\u001b[0m \u001b[32m2.0/2.0 MB\u001b[0m \u001b[31m18.9 MB/s\u001b[0m eta \u001b[36m0:00:00\u001b[0m\n",
            "\u001b[?25hInstalling collected packages: pydicom\n",
            "Successfully installed pydicom-2.3.1\n"
          ]
        }
      ]
    },
    {
      "cell_type": "code",
      "execution_count": null,
      "metadata": {
        "id": "9DUZYNJAaJqg"
      },
      "outputs": [],
      "source": [
        "import os\n",
        "import random\n",
        "import numpy as np\n",
        "import pydicom\n",
        "from keras.preprocessing.image import ImageDataGenerator\n",
        "from skimage.transform import resize"
      ]
    },
    {
      "cell_type": "code",
      "source": [
        "# Mount Google Drive\n",
        "from google.colab import drive\n",
        "drive.mount('/content/drive')"
      ],
      "metadata": {
        "colab": {
          "base_uri": "https://localhost:8080/"
        },
        "id": "4qe8SIilakiO",
        "outputId": "3f1ac2c0-3a07-494e-95ed-ea7589eb395c"
      },
      "execution_count": null,
      "outputs": [
        {
          "output_type": "stream",
          "name": "stdout",
          "text": [
            "Mounted at /content/drive\n"
          ]
        }
      ]
    },
    {
      "cell_type": "code",
      "source": [
        "# Set the path to your .dcm image folder\n",
        "dir_path = \"/content/drive/MyDrive/MRI-dataset\""
      ],
      "metadata": {
        "id": "VbYk1fOba9hz"
      },
      "execution_count": null,
      "outputs": []
    },
    {
      "cell_type": "code",
      "source": [
        "from google.colab import drive\n",
        "drive.mount('/content/drive')"
      ],
      "metadata": {
        "id": "a0CdNQOO4lDd"
      },
      "execution_count": null,
      "outputs": []
    },
    {
      "cell_type": "code",
      "source": [
        "# Load the DICOM images using pydicom\n",
        "import os\n",
        "import pydicom\n",
        "\n",
        "# Load the DICOM files into a list\n",
        "dcm_list = []\n",
        "for filename in os.listdir(dir_path):\n",
        "    if filename.endswith('.dcm'):\n",
        "        dcm_path = os.path.join(dir_path, filename)\n",
        "        dcm = pydicom.read_file(dcm_path)\n",
        "        dcm_list.append(dcm)"
      ],
      "metadata": {
        "id": "rcs_IBfsaq04"
      },
      "execution_count": null,
      "outputs": []
    },
    {
      "cell_type": "code",
      "source": [
        "# Sort the DICOM files by instance number\n",
        "dcm_list.sort(key=lambda x: x.InstanceNumber)"
      ],
      "metadata": {
        "id": "xPUkRPHOhPZS"
      },
      "execution_count": null,
      "outputs": []
    },
    {
      "cell_type": "code",
      "source": [
        "# Extract the pixel data from the DICOM files and resize them to a fixed shape\n",
        "dcm_array = []\n",
        "for dcm in dcm_list:\n",
        "    image = resize(dcm.pixel_array, (256, 256))\n",
        "    dcm_array.append(image)"
      ],
      "metadata": {
        "id": "M_eG-gTrhQYY"
      },
      "execution_count": null,
      "outputs": []
    },
    {
      "cell_type": "code",
      "source": [
        "# Stack the images into a 3D array\n",
        "dcm_array = np.stack(dcm_array)"
      ],
      "metadata": {
        "id": "rUa5NCiNyQgg"
      },
      "execution_count": null,
      "outputs": []
    },
    {
      "cell_type": "code",
      "source": [
        "# Normalize the pixel values to have values between 0 and 1\n",
        "dcm_array = (dcm_array - np.min(dcm_array)) / (np.max(dcm_array) - np.min(dcm_array))"
      ],
      "metadata": {
        "id": "3xlL82qehShU"
      },
      "execution_count": null,
      "outputs": []
    },
    {
      "cell_type": "code",
      "source": [
        "\n",
        "# Define an augmentation generator for the images\n",
        "aug_generator = ImageDataGenerator(\n",
        "    rotation_range=20,\n",
        "    width_shift_range=0.1,\n",
        "    height_shift_range=0.1,\n",
        "    zoom_range=0.1,\n",
        "    horizontal_flip=True,\n",
        "    vertical_flip=True\n",
        ")"
      ],
      "metadata": {
        "id": "TETKEYOchVEm"
      },
      "execution_count": null,
      "outputs": []
    },
    {
      "cell_type": "code",
      "source": [
        "# Apply the augmentation generator to the images\n",
        "dcm_array_augmented = np.zeros_like(dcm_array)\n",
        "for i in range(dcm_array.shape[0]):\n",
        "    image = dcm_array[i, :, :]\n",
        "    image = np.expand_dims(image, axis=-1)\n",
        "    image_augmented = aug_generator.random_transform(image)\n",
        "    dcm_array_augmented[i, :, :] = np.squeeze(image_augmented)"
      ],
      "metadata": {
        "id": "-G5Ewi_IhYZ3"
      },
      "execution_count": null,
      "outputs": []
    },
    {
      "cell_type": "code",
      "source": [
        "import matplotlib.pyplot as plt\n",
        "\n",
        "def show_image(image):\n",
        "    plt.imshow(image, cmap='gray')\n",
        "    plt.axis('off')\n",
        "    plt.show()"
      ],
      "metadata": {
        "id": "mVAY6cbDykdc"
      },
      "execution_count": null,
      "outputs": []
    },
    {
      "cell_type": "code",
      "source": [
        "image = dcm_array[0]\n",
        "show_image(image)"
      ],
      "metadata": {
        "colab": {
          "base_uri": "https://localhost:8080/",
          "height": 248
        },
        "id": "bXELsrq7yokA",
        "outputId": "d29cea5e-32f7-4775-8139-b512acbcc862"
      },
      "execution_count": null,
      "outputs": [
        {
          "output_type": "display_data",
          "data": {
            "text/plain": [
              "<Figure size 432x288 with 1 Axes>"
            ],
            "image/png": "[encoded data removed]"
          },
          "metadata": {
            "needs_background": "light"
          }
        }
      ]
    }
  ]
}