{
  "nbformat": 4,
  "nbformat_minor": 0,
  "metadata": {
    "colab": {
      "provenance": []
    },
    "kernelspec": {
      "name": "python3",
      "display_name": "Python 3"
    },
    "language_info": {
      "name": "python"
    }
  },
  "cells": [
    {
      "cell_type": "markdown",
      "source": [
        "## Project definition:\n",
        "The goal of this project is to develop a machine learning model that can accurately classify brain stroke from MRI images and predict the severity of the stroke using National Institutes of Health Stroke Scale (NIHSS) and Magnetic Resonance Spectroscopy (MRS) data obtained from the same images.\n",
        "\n",
        "The project will involve collecting a dataset of MRI images from patients with and without stroke. The MRI images will be preprocessed to extract relevant features using techniques such as image registration, segmentation, and feature extraction.\n",
        "\n",
        "The extracted features will then be used to train a machine learning model using classification algorithms such as convolutional neural networks (CNN) and support vector machines (SVM). The trained model will be evaluated using standard metrics such as accuracy, sensitivity, and specificity.\n",
        "\n",
        "In addition to stroke classification, the project will also involve predicting the severity of the stroke using NIHSS and MRS data extracted from the MRI images. This will involve using regression techniques such as linear regression and decision trees to predict the severity of the stroke based on the extracted data.\n",
        "\n",
        "The final product of this project will be a machine learning model that can accurately classify stroke from MRI images and predict the severity of the stroke using NIHSS and MRS data. This model can be used by radiologists and neurologists to assist in the diagnosis and treatment of stroke patients."
      ],
      "metadata": {
        "id": "NXUl6fr0aeye"
      }
    },
    {
      "cell_type": "code",
      "source": [
        "! pip install pydicom\n",
        "! pip install keras"
      ],
      "metadata": {
        "colab": {
          "base_uri": "https://localhost:8080/"
        },
        "id": "IG3kbMGjhBaC",
        "outputId": "8a747119-116b-4aea-e065-3afb628693dd"
      },
      "execution_count": 2,
      "outputs": [
        {
          "output_type": "stream",
          "name": "stdout",
          "text": [
            "Looking in indexes: https://pypi.org/simple, https://us-python.pkg.dev/colab-wheels/public/simple/\n",
            "Requirement already satisfied: pydicom in /usr/local/lib/python3.8/dist-packages (2.3.1)\n",
            "Looking in indexes: https://pypi.org/simple, https://us-python.pkg.dev/colab-wheels/public/simple/\n",
            "Requirement already satisfied: keras in /usr/local/lib/python3.8/dist-packages (2.11.0)\n"
          ]
        }
      ]
    },
    {
      "cell_type": "code",
      "execution_count": 3,
      "metadata": {
        "id": "9DUZYNJAaJqg"
      },
      "outputs": [],
      "source": [
        "import os\n",
        "import random\n",
        "import numpy as np\n",
        "import pandas as pd\n",
        "import pydicom\n",
        "from keras.preprocessing.image import ImageDataGenerator\n",
        "from keras.utils import to_categorical\n",
        "import tensorflow as tf\n",
        "from sklearn.model_selection import train_test_split\n",
        "from sklearn.metrics import precision_recall_fscore_support\n"
      ]
    },
    {
      "cell_type": "code",
      "source": [
        "# Mount Google Drive\n",
        "from google.colab import drive\n",
        "drive.mount('/content/drive')"
      ],
      "metadata": {
        "colab": {
          "base_uri": "https://localhost:8080/"
        },
        "id": "4qe8SIilakiO",
        "outputId": "e88db069-9607-4dfa-b981-85f3981c4111"
      },
      "execution_count": 4,
      "outputs": [
        {
          "output_type": "stream",
          "name": "stdout",
          "text": [
            "Drive already mounted at /content/drive; to attempt to forcibly remount, call drive.mount(\"/content/drive\", force_remount=True).\n"
          ]
        }
      ]
    },
    {
      "cell_type": "code",
      "source": [
        "# Set the path to your .dcm image folder\n",
        "dir_path = \"/content/drive/MyDrive/MRI-dataset\"\n",
        "csv_path = \"/content/drive/MyDrive/MRI-dataset/labels.csv\""
      ],
      "metadata": {
        "id": "VbYk1fOba9hz"
      },
      "execution_count": 5,
      "outputs": []
    },
    {
      "cell_type": "code",
      "source": [
        "# Set the target image size\n",
        "img_size = (256, 256)"
      ],
      "metadata": {
        "id": "BpMwlHj4bHyN"
      },
      "execution_count": 6,
      "outputs": []
    },
    {
      "cell_type": "code",
      "source": [
        "# Load the labels from the CSV file into a pandas DataFrame\n",
        "labels_df = pd.read_csv(csv_path)\n",
        "# Replace missing NIHSS scores with the median value\n",
        "median_nihss = labels_df['nihss'].median()\n",
        "labels_df['nihss'].fillna(median_nihss, inplace=True)\n",
        "\n",
        "# Replace missing MRS scores with the mode value\n",
        "mode_mrs = labels_df['mrs'].mode()[0]\n",
        "labels_df['mrs'].fillna(mode_mrs, inplace=True)\n"
      ],
      "metadata": {
        "id": "KfRBSe8PbIpa"
      },
      "execution_count": 21,
      "outputs": []
    },
    {
      "cell_type": "code",
      "source": [
        "labels_df"
      ],
      "metadata": {
        "colab": {
          "base_uri": "https://localhost:8080/",
          "height": 424
        },
        "id": "bfQnO1QJjFVE",
        "outputId": "88a8a662-ba21-4615-a67d-55ff32f70f67"
      },
      "execution_count": 22,
      "outputs": [
        {
          "output_type": "execute_result",
          "data": {
            "text/plain": [
              "          ID stroke_type  nihss  mrs\n",
              "0      2 (1)    Ischemic    2.0  0.0\n",
              "1      2 (2)    Ischemic    4.0  2.0\n",
              "2      2 (3)    Ischemic    4.0  2.0\n",
              "3      2 (4)    Ischemic    4.0  2.0\n",
              "4      2 (5)    Ischemic    4.0  2.0\n",
              "..       ...         ...    ...  ...\n",
              "606  110 (5)    Ischemic    2.0  0.0\n",
              "607  110 (6)    Ischemic    2.0  0.0\n",
              "608  110 (7)    Ischemic    2.0  0.0\n",
              "609  111 (1)    Ischemic    0.0  0.0\n",
              "610  111 (2)    Ischemic    0.0  0.0\n",
              "\n",
              "[611 rows x 4 columns]"
            ],
            "text/html": [
              "\n",
              "  <div id=\"df-8786291e-e80e-4c4a-859a-a9ba7c295fe3\">\n",
              "    <div class=\"colab-df-container\">\n",
              "      <div>\n",
              "<style scoped>\n",
              "    .dataframe tbody tr th:only-of-type {\n",
              "        vertical-align: middle;\n",
              "    }\n",
              "\n",
              "    .dataframe tbody tr th {\n",
              "        vertical-align: top;\n",
              "    }\n",
              "\n",
              "    .dataframe thead th {\n",
              "        text-align: right;\n",
              "    }\n",
              "</style>\n",
              "<table border=\"1\" class=\"dataframe\">\n",
              "  <thead>\n",
              "    <tr style=\"text-align: right;\">\n",
              "      <th></th>\n",
              "      <th>ID</th>\n",
              "      <th>stroke_type</th>\n",
              "      <th>nihss</th>\n",
              "      <th>mrs</th>\n",
              "    </tr>\n",
              "  </thead>\n",
              "  <tbody>\n",
              "    <tr>\n",
              "      <th>0</th>\n",
              "      <td>2 (1)</td>\n",
              "      <td>Ischemic</td>\n",
              "      <td>2.0</td>\n",
              "      <td>0.0</td>\n",
              "    </tr>\n",
              "    <tr>\n",
              "      <th>1</th>\n",
              "      <td>2 (2)</td>\n",
              "      <td>Ischemic</td>\n",
              "      <td>4.0</td>\n",
              "      <td>2.0</td>\n",
              "    </tr>\n",
              "    <tr>\n",
              "      <th>2</th>\n",
              "      <td>2 (3)</td>\n",
              "      <td>Ischemic</td>\n",
              "      <td>4.0</td>\n",
              "      <td>2.0</td>\n",
              "    </tr>\n",
              "    <tr>\n",
              "      <th>3</th>\n",
              "      <td>2 (4)</td>\n",
              "      <td>Ischemic</td>\n",
              "      <td>4.0</td>\n",
              "      <td>2.0</td>\n",
              "    </tr>\n",
              "    <tr>\n",
              "      <th>4</th>\n",
              "      <td>2 (5)</td>\n",
              "      <td>Ischemic</td>\n",
              "      <td>4.0</td>\n",
              "      <td>2.0</td>\n",
              "    </tr>\n",
              "    <tr>\n",
              "      <th>...</th>\n",
              "      <td>...</td>\n",
              "      <td>...</td>\n",
              "      <td>...</td>\n",
              "      <td>...</td>\n",
              "    </tr>\n",
              "    <tr>\n",
              "      <th>606</th>\n",
              "      <td>110 (5)</td>\n",
              "      <td>Ischemic</td>\n",
              "      <td>2.0</td>\n",
              "      <td>0.0</td>\n",
              "    </tr>\n",
              "    <tr>\n",
              "      <th>607</th>\n",
              "      <td>110 (6)</td>\n",
              "      <td>Ischemic</td>\n",
              "      <td>2.0</td>\n",
              "      <td>0.0</td>\n",
              "    </tr>\n",
              "    <tr>\n",
              "      <th>608</th>\n",
              "      <td>110 (7)</td>\n",
              "      <td>Ischemic</td>\n",
              "      <td>2.0</td>\n",
              "      <td>0.0</td>\n",
              "    </tr>\n",
              "    <tr>\n",
              "      <th>609</th>\n",
              "      <td>111 (1)</td>\n",
              "      <td>Ischemic</td>\n",
              "      <td>0.0</td>\n",
              "      <td>0.0</td>\n",
              "    </tr>\n",
              "    <tr>\n",
              "      <th>610</th>\n",
              "      <td>111 (2)</td>\n",
              "      <td>Ischemic</td>\n",
              "      <td>0.0</td>\n",
              "      <td>0.0</td>\n",
              "    </tr>\n",
              "  </tbody>\n",
              "</table>\n",
              "<p>611 rows × 4 columns</p>\n",
              "</div>\n",
              "      <button class=\"colab-df-convert\" onclick=\"convertToInteractive('df-8786291e-e80e-4c4a-859a-a9ba7c295fe3')\"\n",
              "              title=\"Convert this dataframe to an interactive table.\"\n",
              "              style=\"display:none;\">\n",
              "        \n",
              "  <svg xmlns=\"http://www.w3.org/2000/svg\" height=\"24px\"viewBox=\"0 0 24 24\"\n",
              "       width=\"24px\">\n",
              "    <path d=\"M0 0h24v24H0V0z\" fill=\"none\"/>\n",
              "    <path d=\"M18.56 5.44l.94 2.06.94-2.06 2.06-.94-2.06-.94-.94-2.06-.94 2.06-2.06.94zm-11 1L8.5 8.5l.94-2.06 2.06-.94-2.06-.94L8.5 2.5l-.94 2.06-2.06.94zm10 10l.94 2.06.94-2.06 2.06-.94-2.06-.94-.94-2.06-.94 2.06-2.06.94z\"/><path d=\"M17.41 7.96l-1.37-1.37c-.4-.4-.92-.59-1.43-.59-.52 0-1.04.2-1.43.59L10.3 9.45l-7.72 7.72c-.78.78-.78 2.05 0 2.83L4 21.41c.39.39.9.59 1.41.59.51 0 1.02-.2 1.41-.59l7.78-7.78 2.81-2.81c.8-.78.8-2.07 0-2.86zM5.41 20L4 18.59l7.72-7.72 1.47 1.35L5.41 20z\"/>\n",
              "  </svg>\n",
              "      </button>\n",
              "      \n",
              "  <style>\n",
              "    .colab-df-container {\n",
              "      display:flex;\n",
              "      flex-wrap:wrap;\n",
              "      gap: 12px;\n",
              "    }\n",
              "\n",
              "    .colab-df-convert {\n",
              "      background-color: #E8F0FE;\n",
              "      border: none;\n",
              "      border-radius: 50%;\n",
              "      cursor: pointer;\n",
              "      display: none;\n",
              "      fill: #1967D2;\n",
              "      height: 32px;\n",
              "      padding: 0 0 0 0;\n",
              "      width: 32px;\n",
              "    }\n",
              "\n",
              "    .colab-df-convert:hover {\n",
              "      background-color: #E2EBFA;\n",
              "      box-shadow: 0px 1px 2px rgba(60, 64, 67, 0.3), 0px 1px 3px 1px rgba(60, 64, 67, 0.15);\n",
              "      fill: #174EA6;\n",
              "    }\n",
              "\n",
              "    [theme=dark] .colab-df-convert {\n",
              "      background-color: #3B4455;\n",
              "      fill: #D2E3FC;\n",
              "    }\n",
              "\n",
              "    [theme=dark] .colab-df-convert:hover {\n",
              "      background-color: #434B5C;\n",
              "      box-shadow: 0px 1px 3px 1px rgba(0, 0, 0, 0.15);\n",
              "      filter: drop-shadow(0px 1px 2px rgba(0, 0, 0, 0.3));\n",
              "      fill: #FFFFFF;\n",
              "    }\n",
              "  </style>\n",
              "\n",
              "      <script>\n",
              "        const buttonEl =\n",
              "          document.querySelector('#df-8786291e-e80e-4c4a-859a-a9ba7c295fe3 button.colab-df-convert');\n",
              "        buttonEl.style.display =\n",
              "          google.colab.kernel.accessAllowed ? 'block' : 'none';\n",
              "\n",
              "        async function convertToInteractive(key) {\n",
              "          const element = document.querySelector('#df-8786291e-e80e-4c4a-859a-a9ba7c295fe3');\n",
              "          const dataTable =\n",
              "            await google.colab.kernel.invokeFunction('convertToInteractive',\n",
              "                                                     [key], {});\n",
              "          if (!dataTable) return;\n",
              "\n",
              "          const docLinkHtml = 'Like what you see? Visit the ' +\n",
              "            '<a target=\"_blank\" href=https://colab.research.google.com/notebooks/data_table.ipynb>data table notebook</a>'\n",
              "            + ' to learn more about interactive tables.';\n",
              "          element.innerHTML = '';\n",
              "          dataTable['output_type'] = 'display_data';\n",
              "          await google.colab.output.renderOutput(dataTable, element);\n",
              "          const docLink = document.createElement('div');\n",
              "          docLink.innerHTML = docLinkHtml;\n",
              "          element.appendChild(docLink);\n",
              "        }\n",
              "      </script>\n",
              "    </div>\n",
              "  </div>\n",
              "  "
            ]
          },
          "metadata": {},
          "execution_count": 22
        }
      ]
    },
    {
      "cell_type": "code",
      "source": [
        "# Create a dictionary to map stroke types to integer labels\n",
        "stroke_type_map = {'Ischemic': 0, 'Hemorrhagic': 1, 'TIA': 2}\n",
        "\n",
        "# Create an empty list to store the image data and labels\n",
        "data = []\n",
        "labels = []"
      ],
      "metadata": {
        "id": "mvKsHlT6bKhb"
      },
      "execution_count": 23,
      "outputs": []
    },
    {
      "cell_type": "code",
      "source": [
        "from threading import excepthook\n",
        "# Loop over the DICOM files and their corresponding labels\n",
        "for filename in os.listdir(dir_path):\n",
        "    if filename.endswith('.dcm'):\n",
        "        # Load the DICOM file\n",
        "        dcm_path = os.path.join(dir_path, filename)\n",
        "        dcm = pydicom.read_file(dcm_path)\n",
        "        \n",
        "        # Preprocess the image by resizing and normalizing\n",
        "        img = dcm.pixel_array\n",
        "        img = img.astype('float32') / 255.0\n",
        "        img = np.expand_dims(img, axis=-1)\n",
        "        img = tf.image.resize(img, img_size)\n",
        "        \n",
        "        # Extract the corresponding labels from the CSV file\n",
        "        patient_id = filename[:-4]\n",
        "        try:\n",
        "          stroke_type = labels_df[labels_df['ID'] == patient_id]['stroke_type'].values[0]\n",
        "          nihss = labels_df[labels_df['ID'] == patient_id]['nihss'].values[0]\n",
        "          mrs = labels_df[labels_df['ID'] == patient_id]['mrs'].values[0]\n",
        "        except:\n",
        "          print(patient_id)\n",
        "        \n",
        "        # Convert the stroke type to an integer label\n",
        "        stroke_type_label = stroke_type_map[stroke_type]\n",
        "        \n",
        "        # Add the image and labels to the data and labels lists\n",
        "        data.append(img)\n",
        "        labels.append([stroke_type_label, nihss, mrs])"
      ],
      "metadata": {
        "id": "rcs_IBfsaq04",
        "colab": {
          "base_uri": "https://localhost:8080/"
        },
        "outputId": "51026a06-c75d-4e0d-cffd-c31ec2b1b302"
      },
      "execution_count": 24,
      "outputs": [
        {
          "output_type": "stream",
          "name": "stdout",
          "text": [
            "35 (1)\n",
            "35 (2)\n",
            "35 (4)\n",
            "35 (3)\n",
            "35 (5)\n",
            "35 (6)\n",
            "22 (15)\n",
            "22 (16)\n",
            "22 (17)\n",
            "22 (18)\n",
            "22 (19)\n",
            "22 (20)\n",
            "22 (21)\n",
            "22 (22)\n",
            "22 (23)\n",
            "22 (24)\n",
            "22 (25)\n",
            "22 (11)\n",
            "22 (12)\n",
            "22 (13)\n",
            "22 (14)\n",
            "12 (10)\n"
          ]
        }
      ]
    },
    {
      "cell_type": "code",
      "source": [
        "# Convert the data and labels to numpy arrays\n",
        "data = np.array(data)\n",
        "labels = np.array(labels)"
      ],
      "metadata": {
        "id": "xPUkRPHOhPZS"
      },
      "execution_count": 25,
      "outputs": []
    },
    {
      "cell_type": "code",
      "source": [
        "# Convert the stroke type labels to one-hot encoding\n",
        "one_hot_labels = to_categorical(labels[:, 0], num_classes=3)\n",
        "\n",
        "# Combine the one-hot encoded labels with the NIHSS and MRS scores\n",
        "labels = np.concatenate([one_hot_labels, labels[:, 1:]], axis=1)\n"
      ],
      "metadata": {
        "id": "M_eG-gTrhQYY"
      },
      "execution_count": 26,
      "outputs": []
    },
    {
      "cell_type": "code",
      "source": [
        "# Define an augmentation generator for the images\n",
        "aug_generator = ImageDataGenerator(\n",
        "    rotation_range=20,\n",
        "    width_shift_range=0.1,\n",
        "    height_shift_range=0.1,\n",
        "    zoom_range=0.1,\n",
        "    horizontal_flip=True,\n",
        "    vertical_flip=True\n",
        ")"
      ],
      "metadata": {
        "id": "rUa5NCiNyQgg"
      },
      "execution_count": 27,
      "outputs": []
    },
    {
      "cell_type": "code",
      "source": [
        "# Split the data and labels into training and testing sets\n",
        "train_data, test_data, train_labels, test_labels = train_test_split(\n",
        "    data, labels, test_size=0.2, random_state=42)"
      ],
      "metadata": {
        "id": "3xlL82qehShU"
      },
      "execution_count": 28,
      "outputs": []
    },
    {
      "cell_type": "code",
      "source": [
        "import matplotlib.pyplot as plt\n",
        "\n",
        "def show_image(image):\n",
        "    plt.imshow(image, cmap='gray')\n",
        "    plt.axis('off')\n",
        "    plt.show()"
      ],
      "metadata": {
        "id": "mVAY6cbDykdc"
      },
      "execution_count": 29,
      "outputs": []
    },
    {
      "cell_type": "code",
      "source": [
        "image = data[0]\n",
        "show_image(image)"
      ],
      "metadata": {
        "colab": {
          "base_uri": "https://localhost:8080/",
          "height": 248
        },
        "id": "bXELsrq7yokA",
        "outputId": "c6f6dd57-eb97-4c9c-a0fb-fefac184fb29"
      },
      "execution_count": 30,
      "outputs": [
        {
          "output_type": "display_data",
          "data": {
            "text/plain": [
              "<Figure size 432x288 with 1 Axes>"
            ],
            "image/png": "[encoded data removed]"
          },
          "metadata": {
            "needs_background": "light"
          }
        }
      ]
    },
    {
      "cell_type": "code",
      "source": [
        "# Define the input shape of the model\n",
        "input_shape = img_size + (1,)\n",
        "\n",
        "# Define the model architecture\n",
        "model = tf.keras.Sequential([\n",
        "    tf.keras.layers.Conv2D(32, (3, 3), activation='relu', input_shape=input_shape),\n",
        "    tf.keras.layers.MaxPooling2D((2, 2)),\n",
        "    tf.keras.layers.Conv2D(64, (3, 3), activation='relu'),\n",
        "    tf.keras.layers.MaxPooling2D((2, 2)),\n",
        "    tf.keras.layers.Conv2D(128, (3, 3), activation='relu'),\n",
        "    tf.keras.layers.MaxPooling2D((2, 2)),\n",
        "    tf.keras.layers.Flatten(),\n",
        "    tf.keras.layers.Dense(128, activation='relu'),\n",
        "    tf.keras.layers.Dropout(0.5),\n",
        "    tf.keras.layers.Dense(64, activation='relu'),\n",
        "    tf.keras.layers.Dropout(0.5),\n",
        "    tf.keras.layers.Dense(5, activation='softmax')\n",
        "])\n",
        "\n"
      ],
      "metadata": {
        "id": "KhcvYUz6nQ06"
      },
      "execution_count": 31,
      "outputs": []
    },
    {
      "cell_type": "code",
      "source": [
        "# Compile the model with appropriate loss function and optimizer\n",
        "model.compile(loss='categorical_crossentropy', optimizer='adam', metrics=['accuracy'])\n",
        "\n",
        "# Train the model with the training data and use the augmentation generator for data augmentation\n",
        "history = model.fit(aug_generator.flow(train_data, train_labels, batch_size=32), \n",
        "                    validation_data=(test_data, test_labels),\n",
        "                    epochs=3, verbose=1)"
      ],
      "metadata": {
        "colab": {
          "base_uri": "https://localhost:8080/"
        },
        "id": "AQOoakjgn0EN",
        "outputId": "603c051d-7db7-4998-8758-86ffde1ab825"
      },
      "execution_count": 32,
      "outputs": [
        {
          "output_type": "stream",
          "name": "stdout",
          "text": [
            "Epoch 1/3\n",
            "8/8 [==============================] - 64s 8s/step - loss: 137.1666 - accuracy: 0.4444 - val_loss: 655.8470 - val_accuracy: 0.4844\n",
            "Epoch 2/3\n",
            "8/8 [==============================] - 49s 6s/step - loss: 3388.2988 - accuracy: 0.5437 - val_loss: 9065.8164 - val_accuracy: 0.4844\n",
            "Epoch 3/3\n",
            "8/8 [==============================] - 53s 7s/step - loss: 29524.1465 - accuracy: 0.5317 - val_loss: 70942.0547 - val_accuracy: 0.4844\n"
          ]
        }
      ]
    },
    {
      "cell_type": "code",
      "source": [
        "# Predict on test data\n",
        "y_pred = model.predict(test_data)"
      ],
      "metadata": {
        "colab": {
          "base_uri": "https://localhost:8080/"
        },
        "id": "6WHy_u41oiXC",
        "outputId": "367240ec-b243-441c-8e13-1bf58be82fab"
      },
      "execution_count": 36,
      "outputs": [
        {
          "output_type": "stream",
          "name": "stdout",
          "text": [
            "2/2 [==============================] - 3s 1s/step\n"
          ]
        }
      ]
    },
    {
      "cell_type": "code",
      "source": [
        "# Visualize the model's performance\n",
        "plt.plot(history.history['accuracy'], label='train accuracy')\n",
        "plt.plot(history.history['val_accuracy'], label='validation accuracy')\n",
        "plt.legend()\n",
        "plt.show()\n",
        "\n",
        "plt.plot(history.history['loss'], label='train loss')\n",
        "plt.plot(history.history['val_loss'], label='validation loss')\n",
        "plt.legend()\n",
        "plt.show()"
      ],
      "metadata": {
        "colab": {
          "base_uri": "https://localhost:8080/",
          "height": 513
        },
        "id": "EtLdCi71qsdw",
        "outputId": "b8c1e24d-2280-47bb-9f81-9bc744570b6d"
      },
      "execution_count": 39,
      "outputs": [
        {
          "output_type": "display_data",
          "data": {
            "text/plain": [
              "<Figure size 432x288 with 1 Axes>"
            ],
            "image/png": "[encoded data removed]"
          },
          "metadata": {
            "needs_background": "light"
          }
        },
        {
          "output_type": "display_data",
          "data": {
            "text/plain": [
              "<Figure size 432x288 with 1 Axes>"
            ],
            "image/png": "[encoded data removed]"
          },
          "metadata": {
            "needs_background": "light"
          }
        }
      ]
    }
  ]
}